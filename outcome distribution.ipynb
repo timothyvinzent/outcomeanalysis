{
 "cells": [
  {
   "cell_type": "code",
   "execution_count": 1,
   "metadata": {},
   "outputs": [],
   "source": [
    "import pandas as pd\n",
    "from outcome_distribution import outcome_distribution_builder\n",
    "import seaborn as sns\n",
    "from datetime import datetime\n",
    "import matplotlib.pyplot as plt\n",
    "from collections import defaultdict"
   ]
  },
  {
   "cell_type": "markdown",
   "metadata": {},
   "source": [
    "# 0 Load the enriched case log"
   ]
  },
  {
   "cell_type": "code",
   "execution_count": 2,
   "metadata": {},
   "outputs": [],
   "source": [
    "INPUT_FILE_NAME = 'cases_rtfm_full.csv' # the enriched event log\n",
    "CASE_ID_COL = 'case:concept:name'\n",
    "TIMESTAMP_COL = 'time:timestamp'\n",
    "ACTIVITY_COL = 'concept:name'"
   ]
  },
  {
   "cell_type": "code",
   "execution_count": 3,
   "metadata": {},
   "outputs": [
    {
     "name": "stderr",
     "output_type": "stream",
     "text": [
      "C:\\Users\\Timot\\AppData\\Local\\Temp\\ipykernel_63712\\1999305717.py:2: DtypeWarning: Columns (45,46,47,51,59,63,70,74,94,99,106,110,117,118,122,129,133,140,144,152,153,158,165,170,177,182,189,194,201,206,213,218,225,230,237,242,249,254,261,266,273,278,285,290,297,302,309,314) have mixed types. Specify dtype option on import or set low_memory=False.\n",
      "  df = pd.read_csv(INPUT_FILE_NAME,  dtype={'org:resource': str, 'matricola': str})\n"
     ]
    },
    {
     "name": "stdout",
     "output_type": "stream",
     "text": [
      "150370 rows read from cases_rtfm_full.csv\n"
     ]
    },
    {
     "data": {
      "text/html": [
       "<div>\n",
       "<style scoped>\n",
       "    .dataframe tbody tr th:only-of-type {\n",
       "        vertical-align: middle;\n",
       "    }\n",
       "\n",
       "    .dataframe tbody tr th {\n",
       "        vertical-align: top;\n",
       "    }\n",
       "\n",
       "    .dataframe thead th {\n",
       "        text-align: right;\n",
       "    }\n",
       "</style>\n",
       "<table border=\"1\" class=\"dataframe\">\n",
       "  <thead>\n",
       "    <tr style=\"text-align: right;\">\n",
       "      <th></th>\n",
       "      <th>case_id</th>\n",
       "      <th>Create Fine.count</th>\n",
       "      <th>event_count</th>\n",
       "      <th>start_time</th>\n",
       "      <th>start_time_rel</th>\n",
       "      <th>duration</th>\n",
       "      <th>Create Fine.start</th>\n",
       "      <th>Create Fine.amount</th>\n",
       "      <th>Create Fine.org:resource</th>\n",
       "      <th>Create Fine.dismissal</th>\n",
       "      <th>...</th>\n",
       "      <th>Payment:Create Fine.delay</th>\n",
       "      <th>paid_full</th>\n",
       "      <th>dismissed</th>\n",
       "      <th>credit_collection</th>\n",
       "      <th>unresolved</th>\n",
       "      <th>appeal</th>\n",
       "      <th>overturned_judge</th>\n",
       "      <th>overturned_prefecture</th>\n",
       "      <th>overturned</th>\n",
       "      <th>upheld</th>\n",
       "    </tr>\n",
       "  </thead>\n",
       "  <tbody>\n",
       "    <tr>\n",
       "      <th>0</th>\n",
       "      <td>S38735</td>\n",
       "      <td>1</td>\n",
       "      <td>5</td>\n",
       "      <td>2000-01-01</td>\n",
       "      <td>0</td>\n",
       "      <td>830</td>\n",
       "      <td>0</td>\n",
       "      <td>62.59</td>\n",
       "      <td>18</td>\n",
       "      <td>NIL</td>\n",
       "      <td>...</td>\n",
       "      <td>NaN</td>\n",
       "      <td>False</td>\n",
       "      <td>False</td>\n",
       "      <td>True</td>\n",
       "      <td>False</td>\n",
       "      <td>False</td>\n",
       "      <td>False</td>\n",
       "      <td>False</td>\n",
       "      <td>False</td>\n",
       "      <td>False</td>\n",
       "    </tr>\n",
       "    <tr>\n",
       "      <th>1</th>\n",
       "      <td>S44306</td>\n",
       "      <td>1</td>\n",
       "      <td>5</td>\n",
       "      <td>2000-01-02</td>\n",
       "      <td>1</td>\n",
       "      <td>464</td>\n",
       "      <td>0</td>\n",
       "      <td>62.59</td>\n",
       "      <td>704</td>\n",
       "      <td>NIL</td>\n",
       "      <td>...</td>\n",
       "      <td>NaN</td>\n",
       "      <td>False</td>\n",
       "      <td>False</td>\n",
       "      <td>True</td>\n",
       "      <td>False</td>\n",
       "      <td>False</td>\n",
       "      <td>False</td>\n",
       "      <td>False</td>\n",
       "      <td>False</td>\n",
       "      <td>False</td>\n",
       "    </tr>\n",
       "    <tr>\n",
       "      <th>2</th>\n",
       "      <td>S49055</td>\n",
       "      <td>1</td>\n",
       "      <td>6</td>\n",
       "      <td>2000-01-02</td>\n",
       "      <td>1</td>\n",
       "      <td>239</td>\n",
       "      <td>0</td>\n",
       "      <td>31.30</td>\n",
       "      <td>35</td>\n",
       "      <td>NIL</td>\n",
       "      <td>...</td>\n",
       "      <td>-104.0</td>\n",
       "      <td>False</td>\n",
       "      <td>False</td>\n",
       "      <td>False</td>\n",
       "      <td>True</td>\n",
       "      <td>False</td>\n",
       "      <td>False</td>\n",
       "      <td>False</td>\n",
       "      <td>False</td>\n",
       "      <td>False</td>\n",
       "    </tr>\n",
       "    <tr>\n",
       "      <th>3</th>\n",
       "      <td>S49056</td>\n",
       "      <td>1</td>\n",
       "      <td>5</td>\n",
       "      <td>2000-01-02</td>\n",
       "      <td>1</td>\n",
       "      <td>829</td>\n",
       "      <td>0</td>\n",
       "      <td>31.30</td>\n",
       "      <td>35</td>\n",
       "      <td>NIL</td>\n",
       "      <td>...</td>\n",
       "      <td>NaN</td>\n",
       "      <td>False</td>\n",
       "      <td>False</td>\n",
       "      <td>True</td>\n",
       "      <td>False</td>\n",
       "      <td>False</td>\n",
       "      <td>False</td>\n",
       "      <td>False</td>\n",
       "      <td>False</td>\n",
       "      <td>False</td>\n",
       "    </tr>\n",
       "    <tr>\n",
       "      <th>4</th>\n",
       "      <td>S49057</td>\n",
       "      <td>1</td>\n",
       "      <td>5</td>\n",
       "      <td>2000-01-02</td>\n",
       "      <td>1</td>\n",
       "      <td>829</td>\n",
       "      <td>0</td>\n",
       "      <td>31.30</td>\n",
       "      <td>35</td>\n",
       "      <td>NIL</td>\n",
       "      <td>...</td>\n",
       "      <td>NaN</td>\n",
       "      <td>False</td>\n",
       "      <td>False</td>\n",
       "      <td>True</td>\n",
       "      <td>False</td>\n",
       "      <td>False</td>\n",
       "      <td>False</td>\n",
       "      <td>False</td>\n",
       "      <td>False</td>\n",
       "      <td>False</td>\n",
       "    </tr>\n",
       "  </tbody>\n",
       "</table>\n",
       "<p>5 rows × 383 columns</p>\n",
       "</div>"
      ],
      "text/plain": [
       "  case_id  Create Fine.count  event_count  start_time  start_time_rel  \\\n",
       "0  S38735                  1            5  2000-01-01               0   \n",
       "1  S44306                  1            5  2000-01-02               1   \n",
       "2  S49055                  1            6  2000-01-02               1   \n",
       "3  S49056                  1            5  2000-01-02               1   \n",
       "4  S49057                  1            5  2000-01-02               1   \n",
       "\n",
       "   duration  Create Fine.start  Create Fine.amount  Create Fine.org:resource  \\\n",
       "0       830                  0               62.59                        18   \n",
       "1       464                  0               62.59                       704   \n",
       "2       239                  0               31.30                        35   \n",
       "3       829                  0               31.30                        35   \n",
       "4       829                  0               31.30                        35   \n",
       "\n",
       "  Create Fine.dismissal  ... Payment:Create Fine.delay  paid_full dismissed  \\\n",
       "0                   NIL  ...                       NaN      False     False   \n",
       "1                   NIL  ...                       NaN      False     False   \n",
       "2                   NIL  ...                    -104.0      False     False   \n",
       "3                   NIL  ...                       NaN      False     False   \n",
       "4                   NIL  ...                       NaN      False     False   \n",
       "\n",
       "   credit_collection  unresolved  appeal  overturned_judge  \\\n",
       "0               True       False   False             False   \n",
       "1               True       False   False             False   \n",
       "2              False        True   False             False   \n",
       "3               True       False   False             False   \n",
       "4               True       False   False             False   \n",
       "\n",
       "   overturned_prefecture  overturned  upheld  \n",
       "0                  False       False   False  \n",
       "1                  False       False   False  \n",
       "2                  False       False   False  \n",
       "3                  False       False   False  \n",
       "4                  False       False   False  \n",
       "\n",
       "[5 rows x 383 columns]"
      ]
     },
     "execution_count": 3,
     "metadata": {},
     "output_type": "execute_result"
    }
   ],
   "source": [
    "# read the enriched case log csv into a dataframe\n",
    "df = pd.read_csv(INPUT_FILE_NAME,  dtype={'org:resource': str, 'matricola': str})\n",
    "print(len(df), 'rows read from', INPUT_FILE_NAME)\n",
    "df.head()"
   ]
  },
  {
   "cell_type": "markdown",
   "metadata": {},
   "source": [
    "# 1 Visualize the Outcome Distribution"
   ]
  },
  {
   "cell_type": "code",
   "execution_count": 4,
   "metadata": {},
   "outputs": [],
   "source": [
    "#define the list of predicates\n",
    "lst_of_predicates = [(lambda row: row[\"Final.outstanding_balance\"] <= 0.0), # predicate for Fully Paid\n",
    "                      (lambda row: row[\"Send for Credit Collection.count\"] >= 1), # predicate for Collected\n",
    "                      (lambda row: row[\"Final.dismissal::last\"] in ['G', '#']) # predicate for Dismissed\n",
    "                    ]\n",
    "#define the labels of the outcomes\n",
    "outcomes_labels = [\"Fully Paid\", \"Collected\", \"Dismissed\"]"
   ]
  },
  {
   "cell_type": "code",
   "execution_count": 5,
   "metadata": {},
   "outputs": [
    {
     "name": "stdout",
     "output_type": "stream",
     "text": [
      "{'Fully Paid': [('Collected', 3), ('Dismissed', 1)], 'Collected': [('Dismissed', 0)]}\n"
     ]
    }
   ],
   "source": [
    "#compute the values for the outcome distribution and check for overlaps between the outcomes\n",
    "values, dct = outcome_distribution_builder(df, outcomes_labels, lst_of_predicates)"
   ]
  },
  {
   "cell_type": "markdown",
   "metadata": {},
   "source": [
    "Here we can see that there are 3 cases that co-occur between Fully Paid and Collected and 1 case that co-occurs in Fully Paid and Dismissed. Therefore, we can choose to remove these duplicate cases from the final outcome distribution. In our case we remove 4 cases from Fully Paid, 3 cases from Collected and 1 case from Dismissed bellow"
   ]
  },
  {
   "cell_type": "code",
   "execution_count": 6,
   "metadata": {},
   "outputs": [
    {
     "data": {
      "image/png": "[encoded data removed]",
      "text/plain": [
       "<Figure size 800x500 with 1 Axes>"
      ]
     },
     "metadata": {},
     "output_type": "display_data"
    }
   ],
   "source": [
    "#Create a dictionary with the colors for each variable\n",
    "colors = {\"Full Payment\": \"limegreen\", \"Dismissed\": \"royalblue\", \"Credit Collection\": \"navajowhite\", \"Unresolved\": \"plum\"}\n",
    "# Create a pandas DataFrame with your data\n",
    "data = {\"Full Payment\": [values[0][0] -4],  \"Credit Collection\": [values[1][0] -3], \"Dismissed\": [values[2][0] -1], \"Unresolved\": [values[3][0]]}\n",
    "df_bar = pd.DataFrame(data)\n",
    "# Create the bar chart\n",
    "plt.figure(figsize=(8, 5))\n",
    "sns.barplot(y = df_bar.iloc[0], x=df_bar.columns, palette=colors)\n",
    "# Set the background color\n",
    "sns.set_style(\"whitegrid\")\n",
    "# change font size of y axis and x axis\n",
    "plt.yticks(fontsize=14)\n",
    "plt.xticks(fontsize=14)\n",
    "plt.xticks(rotation=-45)\n",
    "plt.show()"
   ]
  }
 ],
 "metadata": {
  "kernelspec": {
   "display_name": "base",
   "language": "python",
   "name": "python3"
  },
  "language_info": {
   "codemirror_mode": {
    "name": "ipython",
    "version": 3
   },
   "file_extension": ".py",
   "mimetype": "text/x-python",
   "name": "python",
   "nbconvert_exporter": "python",
   "pygments_lexer": "ipython3",
   "version": "3.9.13"
  },
  "orig_nbformat": 4
 },
 "nbformat": 4,
 "nbformat_minor": 2
}
